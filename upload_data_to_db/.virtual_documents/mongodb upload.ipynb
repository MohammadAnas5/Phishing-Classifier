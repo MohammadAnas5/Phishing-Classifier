pip install database_connect


import os 
from database_connect.databases.mongodb import MongoIO as mongo 



